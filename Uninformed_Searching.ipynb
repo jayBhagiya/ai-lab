{
 "cells": [
  {
   "cell_type": "markdown",
   "metadata": {},
   "source": [
    "# BFS (Breadth First Search)"
   ]
  },
  {
   "cell_type": "code",
   "execution_count": 62,
   "metadata": {},
   "outputs": [
    {
     "name": "stdout",
     "output_type": "stream",
     "text": [
      "['A', 'B', 'E', 'K', 'N']\n"
     ]
    }
   ],
   "source": [
    "from collections import defaultdict\n",
    "\n",
    "class Tree:\n",
    "    \n",
    "    def __init__(self):\n",
    "        \n",
    "        self.tree = defaultdict(list)\n",
    "        \n",
    "    def addNode(self, parent, child):\n",
    "        self.tree[parent].append(child)\n",
    "        \n",
    "    def BFS_Traversal(self, source):\n",
    "        visited = []\n",
    "        queue = []\n",
    "        \n",
    "        queue.append(source)\n",
    "        visited.append(source)\n",
    "        \n",
    "        while queue:\n",
    "            \n",
    "            s_node = queue.pop(0)\n",
    "            \n",
    "            for child in self.tree[s_node]:\n",
    "                if child not in visited:\n",
    "                    visited.append(child)\n",
    "                    queue.append(child)\n",
    "        \n",
    "        return visited\n",
    "                    \n",
    "    def BFS_Search(self, source, goal):\n",
    "        visited = self.BFS_Traversal('A')\n",
    "        path = []\n",
    "        \n",
    "        if goal in visited:\n",
    "            path.append(goal)\n",
    "        else:\n",
    "            print(\"Goal is not in Tree or Graph.\")\n",
    "            return -1\n",
    "        \n",
    "        parents = list()\n",
    "        for parent in self.tree:\n",
    "            if len(self.tree[parent]) > 0:\n",
    "                parents.append(parent)\n",
    "        \n",
    "        while source != goal:\n",
    "            for parent in parents:\n",
    "                if goal in self.tree[parent]:\n",
    "                    goal = parent\n",
    "                    path.insert(0, goal)\n",
    "                    break\n",
    "    \n",
    "        return path\n",
    "            \n",
    "            \n",
    "                    \n",
    "def main():\n",
    "    tr = Tree()\n",
    "    \n",
    "    tr.addNode('A', 'B')\n",
    "    tr.addNode('A', 'C')\n",
    "    tr.addNode('A', 'D')\n",
    "    tr.addNode('B', 'E')\n",
    "    tr.addNode('B', 'F')\n",
    "    tr.addNode('C', 'G')\n",
    "    tr.addNode('C', 'H')\n",
    "    tr.addNode('D', 'I')\n",
    "    tr.addNode('E', 'J')\n",
    "    tr.addNode('E', 'K')\n",
    "    tr.addNode('G', 'L')\n",
    "    tr.addNode('I', 'M')\n",
    "    tr.addNode('K', 'N')\n",
    "    \n",
    "    print(tr.BFS_Search('A', 'N'))\n",
    "    \n",
    "if __name__ == '__main__':\n",
    "    main()"
   ]
  },
  {
   "cell_type": "code",
   "execution_count": null,
   "metadata": {},
   "outputs": [],
   "source": []
  }
 ],
 "metadata": {
  "kernelspec": {
   "display_name": "Python 3",
   "language": "python",
   "name": "python3"
  },
  "language_info": {
   "codemirror_mode": {
    "name": "ipython",
    "version": 3
   },
   "file_extension": ".py",
   "mimetype": "text/x-python",
   "name": "python",
   "nbconvert_exporter": "python",
   "pygments_lexer": "ipython3",
   "version": "3.6.9"
  }
 },
 "nbformat": 4,
 "nbformat_minor": 4
}
